{
 "cells": [
  {
   "cell_type": "markdown",
   "metadata": {},
   "source": [
    "# Job Analysis"
   ]
  },
  {
   "cell_type": "markdown",
   "metadata": {},
   "source": [
    "1. Data Cleaning\n",
    "2. EDA\n",
    "3. Modeling\n"
   ]
  },
  {
   "cell_type": "code",
   "execution_count": 315,
   "metadata": {},
   "outputs": [],
   "source": [
    "import pandas as pd\n",
    "import numpy as np\n",
    "import statistics\n",
    "import seaborn as sns\n",
    "import matplotlib.pyplot as plt"
   ]
  },
  {
   "cell_type": "code",
   "execution_count": 316,
   "metadata": {},
   "outputs": [],
   "source": [
    "df = pd.read_csv('glassdoor_jobs.csv')"
   ]
  },
  {
   "cell_type": "code",
   "execution_count": 317,
   "metadata": {},
   "outputs": [],
   "source": [
    "# df.head()"
   ]
  },
  {
   "cell_type": "markdown",
   "metadata": {},
   "source": [
    "## Data Cleaning"
   ]
  },
  {
   "cell_type": "markdown",
   "metadata": {},
   "source": [
    "#### 1) Salary Cleaning"
   ]
  },
  {
   "cell_type": "code",
   "execution_count": 318,
   "metadata": {},
   "outputs": [],
   "source": [
    "df['salary'] = df['Salary Estimate'].apply(lambda x: x.split('(')[0].strip())\n",
    "df['hourly'] = df['salary'].apply(lambda x: 1 if 'hour' in x.lower() else 0)\n",
    "df['salary'] = df['salary'].apply(lambda x: x.replace('$',\"\").replace('K',\"\").replace('Employer Provided Salary:',\"\").replace(\"Per Hour\",\"\"))\n",
    "df = df[df['salary']!= '-1']\n",
    "df['min_salary'] = df['salary'].apply(lambda x: int(x.split('-')[0].strip()))\n",
    "df['max_salary'] = df['salary'].apply(lambda x: int(x.split('-')[1].strip()))\n",
    "\n",
    "df['min_salary'] = df.apply(lambda x: x.min_salary*52*40/1000 if x.hourly == 1 else x.min_salary, axis =1)\n",
    "df['max_salary'] = df.apply(lambda x: x.max_salary*52*40/1000 if x.hourly == 1 else x.max_salary, axis =1)\n",
    "df['avg_salary'] = (df['min_salary'] + df['max_salary'])/2\n"
   ]
  },
  {
   "cell_type": "markdown",
   "metadata": {},
   "source": []
  },
  {
   "cell_type": "markdown",
   "metadata": {},
   "source": [
    "#### 2) Job Title Cleaning"
   ]
  },
  {
   "cell_type": "code",
   "execution_count": 319,
   "metadata": {},
   "outputs": [],
   "source": [
    "def job_cate(x):\n",
    "    x = x.lower()\n",
    "    if \"data scientist\" in x:\n",
    "        return \"Data Scientist\"\n",
    "    elif \"data engineer\" in x:\n",
    "        return \"Data Engineer\"\n",
    "    elif \"analyst\" in x:\n",
    "        return \"Data Analyst\"\n",
    "    elif \"machine learning\" in x:\n",
    "        return \"Machine learning engineer\"\n",
    "    else:\n",
    "        return \"NA\"\n",
    "def seniority(x):\n",
    "    x = x.lower()\n",
    "    seniors = ['senior', 'sr', 'sr.']\n",
    "    for senior in seniors:\n",
    "        if senior in x:\n",
    "            return \"senior\"\n",
    "    return \"NA\"\n",
    "\n",
    "\n",
    "df['Job_Category'] = df['Job Title'].apply(job_cate)\n",
    "df['seniority'] = df['Job Title'].apply(seniority)\n"
   ]
  },
  {
   "cell_type": "markdown",
   "metadata": {},
   "source": [
    "#### 3) State, age_of_company, num_competitors, hq\n"
   ]
  },
  {
   "cell_type": "code",
   "execution_count": 320,
   "metadata": {},
   "outputs": [],
   "source": [
    "df[\"state\"] = df[\"Location\"].apply(lambda x: x.split(\",\")[1].strip() if len(x.split(\",\")) == 2 else x)\n",
    "wrong_str = {\"United States\": \"NA\",\"New Jersey\" : \"NJ\", \"Utah\" : \"UT\",\"Texas\" :  \"TX\", \"Patuxent, Anne Arundel, MD\" : \"MD\",\"California\" : \"CA\",\"Santa Fe Springs, Los Angeles, CA\" : \"CA\" }\n",
    "df[\"state\"] = df[\"state\"].apply(lambda x: wrong_str[x] if x in wrong_str else x)\n",
    "df.columns\n",
    "df[\"num_competitors\"] = df[\"Competitors\"].apply(lambda x: 0 if x == '-1' else x)\n",
    "df[\"num_competitors\"] = df[\"num_competitors\"].apply(lambda x: len(x.split(',')) if isinstance(x,str) else x)\n",
    "df[\"num_competitors\"].value_counts()\n",
    "df[\"age_of_company\"] = df[\"Founded\"].apply(lambda x: 2022-x if x>0 else x)\n",
    "df[\"Hq\"] = df.apply(lambda x: 1 if x.Location == x.Headquarters else 0, axis = 1)\n"
   ]
  },
  {
   "cell_type": "code",
   "execution_count": 321,
   "metadata": {},
   "outputs": [
    {
     "data": {
      "text/plain": [
       "Index(['Unnamed: 0', 'Job Title', 'Salary Estimate', 'Job Description',\n",
       "       'Rating', 'Company Name', 'Location', 'Headquarters', 'Size', 'Founded',\n",
       "       'Type of ownership', 'Industry', 'Sector', 'Revenue', 'Competitors',\n",
       "       'salary', 'hourly', 'min_salary', 'max_salary', 'avg_salary',\n",
       "       'Job_Category', 'seniority', 'state', 'num_competitors',\n",
       "       'age_of_company', 'Hq'],\n",
       "      dtype='object')"
      ]
     },
     "execution_count": 321,
     "metadata": {},
     "output_type": "execute_result"
    }
   ],
   "source": [
    "df.columns"
   ]
  },
  {
   "cell_type": "markdown",
   "metadata": {},
   "source": [
    "#### 4) Job Description, Company Name Cleaning\n"
   ]
  },
  {
   "cell_type": "code",
   "execution_count": 322,
   "metadata": {},
   "outputs": [],
   "source": [
    "df[\"Company Name\"] = df[\"Company Name\"].apply(lambda x : x.split(\"\\n\")[0] ) \n",
    "df[\"Job Description\"] = df[\"Job Description\"].apply(lambda x : x.replace(\"\\n\", \" \") )"
   ]
  },
  {
   "cell_type": "markdown",
   "metadata": {},
   "source": [
    "#### 5) Size, Revenue"
   ]
  },
  {
   "cell_type": "code",
   "execution_count": 323,
   "metadata": {},
   "outputs": [
    {
     "data": {
      "text/plain": [
       "NA        204\n",
       "10000     124\n",
       "300.0      91\n",
       "1500.0     60\n",
       "750        57\n",
       "75.0       46\n",
       "37.5       40\n",
       "3500.0     39\n",
       "17.5       32\n",
       "7500.0     19\n",
       "7.5        18\n",
       "3.0         8\n",
       "1           4\n",
       "Name: Rev_million, dtype: int64"
      ]
     },
     "execution_count": 323,
     "metadata": {},
     "output_type": "execute_result"
    }
   ],
   "source": [
    "def revenue_cleaning(x):\n",
    "    if x == \"-1\" or x =='Unknown / Non-Applicable' :\n",
    "        x = \"NA\"\n",
    "    elif \"$10+ billion\" in x:\n",
    "        x = 10 * 1000\n",
    "    elif \"Less than $1 million\" in x:\n",
    "        x = 1\n",
    "    elif \"$500 million to $1 billion\" in x:\n",
    "        x = 750\n",
    "    elif  \"billion\" in x:\n",
    "        x = (int(x.replace(\"$\", \"\").split(\" \")[0]) + int(x.replace(\"$\", \"\").split(\" to \")[1].split(\" \")[0]) )/ 2 * 1000\n",
    "    elif \"million\" in x:\n",
    "        x = (int(x.replace(\"$\", \"\").split(\" \")[0]) + int(x.replace(\"$\", \"\").split(\" to \")[1].split(\" \")[0]) )/ 2\n",
    "    return x\n",
    "\n",
    "df[\"Rev_million\"] = df[\"Revenue\"].apply(revenue_cleaning)\n",
    "df[\"Rev_million\"].value_counts()"
   ]
  },
  {
   "cell_type": "markdown",
   "metadata": {},
   "source": [
    "#### 6) Keyword selection from job description, length of description\n"
   ]
  },
  {
   "cell_type": "code",
   "execution_count": 324,
   "metadata": {},
   "outputs": [],
   "source": [
    "# we would like to extract few key words that I believe is critical to data scientist role\n",
    "word_list = [\"python\",\"excel\",\"sql\",\"gcp\",\"aws\"]\n",
    "for word in word_list:\n",
    "    df[word] = df[\"Job Description\"].apply(lambda x: 1 if word in x.lower() else 0)\n",
    "\n",
    "df['desc_len'] = df[\"Job Description\"].apply(lambda x: len(x))"
   ]
  },
  {
   "cell_type": "markdown",
   "metadata": {},
   "source": []
  },
  {
   "cell_type": "code",
   "execution_count": 325,
   "metadata": {},
   "outputs": [],
   "source": [
    "# Let's make a dataframe with the columns that we only need\n",
    "df.columns\n",
    "df = df[['Job Title', 'Job_Category','seniority', 'Industry', 'Job Description', 'Rating',\n",
    "       'Company Name', 'state' , 'Size', 'Sector', 'Type of ownership', 'Rev_million','num_competitors',\n",
    "       'avg_salary', 'age_of_company',\"python\",\"excel\",\"sql\",\"gcp\",\"aws\",'desc_len',\"Hq\",\"Revenue\",'hourly']]\n"
   ]
  },
  {
   "cell_type": "markdown",
   "metadata": {},
   "source": [
    "## EDA"
   ]
  },
  {
   "cell_type": "markdown",
   "metadata": {},
   "source": [
    "There are two parts in this analysis.\n",
    "\n",
    "1) Understand the columns itself\n",
    "    - qunatative columns analysis\n",
    "    - correlation of quantative columns\n",
    "    \n",
    "\n",
    "2) See the relationship between columns using pivot table\n"
   ]
  },
  {
   "cell_type": "code",
   "execution_count": 326,
   "metadata": {},
   "outputs": [
    {
     "data": {
      "text/html": [
       "<div>\n",
       "<style scoped>\n",
       "    .dataframe tbody tr th:only-of-type {\n",
       "        vertical-align: middle;\n",
       "    }\n",
       "\n",
       "    .dataframe tbody tr th {\n",
       "        vertical-align: top;\n",
       "    }\n",
       "\n",
       "    .dataframe thead th {\n",
       "        text-align: right;\n",
       "    }\n",
       "</style>\n",
       "<table border=\"1\" class=\"dataframe\">\n",
       "  <thead>\n",
       "    <tr style=\"text-align: right;\">\n",
       "      <th></th>\n",
       "      <th>Rating</th>\n",
       "      <th>num_competitors</th>\n",
       "      <th>avg_salary</th>\n",
       "      <th>age_of_company</th>\n",
       "      <th>python</th>\n",
       "      <th>excel</th>\n",
       "      <th>sql</th>\n",
       "      <th>gcp</th>\n",
       "      <th>aws</th>\n",
       "      <th>desc_len</th>\n",
       "      <th>Hq</th>\n",
       "      <th>hourly</th>\n",
       "    </tr>\n",
       "  </thead>\n",
       "  <tbody>\n",
       "    <tr>\n",
       "      <th>count</th>\n",
       "      <td>742.000000</td>\n",
       "      <td>742.000000</td>\n",
       "      <td>742.000000</td>\n",
       "      <td>742.000000</td>\n",
       "      <td>742.000000</td>\n",
       "      <td>742.000000</td>\n",
       "      <td>742.000000</td>\n",
       "      <td>742.000000</td>\n",
       "      <td>742.000000</td>\n",
       "      <td>742.000000</td>\n",
       "      <td>742.000000</td>\n",
       "      <td>742.000000</td>\n",
       "    </tr>\n",
       "    <tr>\n",
       "      <th>mean</th>\n",
       "      <td>3.618868</td>\n",
       "      <td>1.053908</td>\n",
       "      <td>101.499326</td>\n",
       "      <td>48.456873</td>\n",
       "      <td>0.528302</td>\n",
       "      <td>0.522911</td>\n",
       "      <td>0.512129</td>\n",
       "      <td>0.043127</td>\n",
       "      <td>0.237197</td>\n",
       "      <td>3869.545822</td>\n",
       "      <td>0.557951</td>\n",
       "      <td>0.032345</td>\n",
       "    </tr>\n",
       "    <tr>\n",
       "      <th>std</th>\n",
       "      <td>0.801210</td>\n",
       "      <td>1.384239</td>\n",
       "      <td>37.463032</td>\n",
       "      <td>53.900445</td>\n",
       "      <td>0.499535</td>\n",
       "      <td>0.499812</td>\n",
       "      <td>0.500190</td>\n",
       "      <td>0.203279</td>\n",
       "      <td>0.425651</td>\n",
       "      <td>1521.495868</td>\n",
       "      <td>0.496965</td>\n",
       "      <td>0.177034</td>\n",
       "    </tr>\n",
       "    <tr>\n",
       "      <th>min</th>\n",
       "      <td>-1.000000</td>\n",
       "      <td>0.000000</td>\n",
       "      <td>15.500000</td>\n",
       "      <td>-1.000000</td>\n",
       "      <td>0.000000</td>\n",
       "      <td>0.000000</td>\n",
       "      <td>0.000000</td>\n",
       "      <td>0.000000</td>\n",
       "      <td>0.000000</td>\n",
       "      <td>407.000000</td>\n",
       "      <td>0.000000</td>\n",
       "      <td>0.000000</td>\n",
       "    </tr>\n",
       "    <tr>\n",
       "      <th>25%</th>\n",
       "      <td>3.300000</td>\n",
       "      <td>0.000000</td>\n",
       "      <td>73.500000</td>\n",
       "      <td>13.000000</td>\n",
       "      <td>0.000000</td>\n",
       "      <td>0.000000</td>\n",
       "      <td>0.000000</td>\n",
       "      <td>0.000000</td>\n",
       "      <td>0.000000</td>\n",
       "      <td>2801.000000</td>\n",
       "      <td>0.000000</td>\n",
       "      <td>0.000000</td>\n",
       "    </tr>\n",
       "    <tr>\n",
       "      <th>50%</th>\n",
       "      <td>3.700000</td>\n",
       "      <td>0.000000</td>\n",
       "      <td>97.500000</td>\n",
       "      <td>26.000000</td>\n",
       "      <td>1.000000</td>\n",
       "      <td>1.000000</td>\n",
       "      <td>1.000000</td>\n",
       "      <td>0.000000</td>\n",
       "      <td>0.000000</td>\n",
       "      <td>3731.000000</td>\n",
       "      <td>1.000000</td>\n",
       "      <td>0.000000</td>\n",
       "    </tr>\n",
       "    <tr>\n",
       "      <th>75%</th>\n",
       "      <td>4.000000</td>\n",
       "      <td>3.000000</td>\n",
       "      <td>122.500000</td>\n",
       "      <td>61.000000</td>\n",
       "      <td>1.000000</td>\n",
       "      <td>1.000000</td>\n",
       "      <td>1.000000</td>\n",
       "      <td>0.000000</td>\n",
       "      <td>0.000000</td>\n",
       "      <td>4740.000000</td>\n",
       "      <td>1.000000</td>\n",
       "      <td>0.000000</td>\n",
       "    </tr>\n",
       "    <tr>\n",
       "      <th>max</th>\n",
       "      <td>5.000000</td>\n",
       "      <td>4.000000</td>\n",
       "      <td>254.000000</td>\n",
       "      <td>278.000000</td>\n",
       "      <td>1.000000</td>\n",
       "      <td>1.000000</td>\n",
       "      <td>1.000000</td>\n",
       "      <td>1.000000</td>\n",
       "      <td>1.000000</td>\n",
       "      <td>10051.000000</td>\n",
       "      <td>1.000000</td>\n",
       "      <td>1.000000</td>\n",
       "    </tr>\n",
       "  </tbody>\n",
       "</table>\n",
       "</div>"
      ],
      "text/plain": [
       "           Rating  num_competitors  avg_salary  age_of_company      python  \\\n",
       "count  742.000000       742.000000  742.000000      742.000000  742.000000   \n",
       "mean     3.618868         1.053908  101.499326       48.456873    0.528302   \n",
       "std      0.801210         1.384239   37.463032       53.900445    0.499535   \n",
       "min     -1.000000         0.000000   15.500000       -1.000000    0.000000   \n",
       "25%      3.300000         0.000000   73.500000       13.000000    0.000000   \n",
       "50%      3.700000         0.000000   97.500000       26.000000    1.000000   \n",
       "75%      4.000000         3.000000  122.500000       61.000000    1.000000   \n",
       "max      5.000000         4.000000  254.000000      278.000000    1.000000   \n",
       "\n",
       "            excel         sql         gcp         aws      desc_len  \\\n",
       "count  742.000000  742.000000  742.000000  742.000000    742.000000   \n",
       "mean     0.522911    0.512129    0.043127    0.237197   3869.545822   \n",
       "std      0.499812    0.500190    0.203279    0.425651   1521.495868   \n",
       "min      0.000000    0.000000    0.000000    0.000000    407.000000   \n",
       "25%      0.000000    0.000000    0.000000    0.000000   2801.000000   \n",
       "50%      1.000000    1.000000    0.000000    0.000000   3731.000000   \n",
       "75%      1.000000    1.000000    0.000000    0.000000   4740.000000   \n",
       "max      1.000000    1.000000    1.000000    1.000000  10051.000000   \n",
       "\n",
       "               Hq      hourly  \n",
       "count  742.000000  742.000000  \n",
       "mean     0.557951    0.032345  \n",
       "std      0.496965    0.177034  \n",
       "min      0.000000    0.000000  \n",
       "25%      0.000000    0.000000  \n",
       "50%      1.000000    0.000000  \n",
       "75%      1.000000    0.000000  \n",
       "max      1.000000    1.000000  "
      ]
     },
     "execution_count": 326,
     "metadata": {},
     "output_type": "execute_result"
    }
   ],
   "source": [
    "df.describe()"
   ]
  },
  {
   "cell_type": "markdown",
   "metadata": {},
   "source": [
    "Now let's understand quantitative columns with the corresponding histogram"
   ]
  },
  {
   "cell_type": "code",
   "execution_count": 327,
   "metadata": {},
   "outputs": [
    {
     "data": {
      "text/plain": [
       "array([[<AxesSubplot:title={'center':'Rating'}>,\n",
       "        <AxesSubplot:title={'center':'num_competitors'}>,\n",
       "        <AxesSubplot:title={'center':'avg_salary'}>],\n",
       "       [<AxesSubplot:title={'center':'age_of_company'}>,\n",
       "        <AxesSubplot:title={'center':'python'}>,\n",
       "        <AxesSubplot:title={'center':'excel'}>],\n",
       "       [<AxesSubplot:title={'center':'sql'}>,\n",
       "        <AxesSubplot:title={'center':'gcp'}>,\n",
       "        <AxesSubplot:title={'center':'aws'}>],\n",
       "       [<AxesSubplot:title={'center':'desc_len'}>,\n",
       "        <AxesSubplot:title={'center':'Hq'}>,\n",
       "        <AxesSubplot:title={'center':'hourly'}>]], dtype=object)"
      ]
     },
     "execution_count": 327,
     "metadata": {},
     "output_type": "execute_result"
    },
    {
     "data": {
      "image/png": "[encoded data removed]",
      "text/plain": [
       "<Figure size 1080x720 with 12 Axes>"
      ]
     },
     "metadata": {
      "needs_background": "light"
     },
     "output_type": "display_data"
    }
   ],
   "source": [
    "df.hist(bins = 20, figsize = (15,10))"
   ]
  },
  {
   "cell_type": "code",
   "execution_count": 328,
   "metadata": {},
   "outputs": [
    {
     "name": "stdout",
     "output_type": "stream",
     "text": [
      "                   Rating  num_competitors  avg_salary  age_of_company  \\\n",
      "Rating           1.000000         0.027190    0.012429        0.024665   \n",
      "num_competitors  0.027190         1.000000    0.082339        0.128272   \n",
      "avg_salary       0.012429         0.082339    1.000000        0.022062   \n",
      "age_of_company   0.024665         0.128272    0.022062        1.000000   \n",
      "python           0.144665         0.091470    0.315297       -0.098092   \n",
      "excel           -0.036466        -0.031046   -0.072632        0.038659   \n",
      "sql              0.134463         0.061426    0.001603       -0.117662   \n",
      "gcp              0.072885        -0.065825   -0.004788       -0.072129   \n",
      "aws              0.117049        -0.014860    0.172603       -0.033141   \n",
      "desc_len        -0.012281         0.104620    0.069742        0.164461   \n",
      "Hq               0.085033        -0.102635   -0.041313       -0.164903   \n",
      "hourly          -0.019531        -0.117265   -0.241731        0.008066   \n",
      "\n",
      "                   python     excel       sql       gcp       aws  desc_len  \\\n",
      "Rating           0.144665 -0.036466  0.134463  0.072885  0.117049 -0.012281   \n",
      "num_competitors  0.091470 -0.031046  0.061426 -0.065825 -0.014860  0.104620   \n",
      "avg_salary       0.315297 -0.072632  0.001603 -0.004788  0.172603  0.069742   \n",
      "age_of_company  -0.098092  0.038659 -0.117662 -0.072129 -0.033141  0.164461   \n",
      "python           1.000000 -0.021519  0.373999  0.041124  0.203221  0.019143   \n",
      "excel           -0.021519  1.000000  0.109548 -0.009738 -0.019235  0.118875   \n",
      "sql              0.373999  0.109548  1.000000  0.034666  0.106902  0.024151   \n",
      "gcp              0.041124 -0.009738  0.034666  1.000000  0.209148 -0.039756   \n",
      "aws              0.203221 -0.019235  0.106902  0.209148  1.000000  0.133097   \n",
      "desc_len         0.019143  0.118875  0.024151 -0.039756  0.133097  1.000000   \n",
      "Hq               0.006975  0.106026  0.130179  0.095455 -0.065070  0.062387   \n",
      "hourly          -0.193487 -0.099897 -0.187319 -0.001314 -0.030315 -0.073194   \n",
      "\n",
      "                       Hq    hourly  \n",
      "Rating           0.085033 -0.019531  \n",
      "num_competitors -0.102635 -0.117265  \n",
      "avg_salary      -0.041313 -0.241731  \n",
      "age_of_company  -0.164903  0.008066  \n",
      "python           0.006975 -0.193487  \n",
      "excel            0.106026 -0.099897  \n",
      "sql              0.130179 -0.187319  \n",
      "gcp              0.095455 -0.001314  \n",
      "aws             -0.065070 -0.030315  \n",
      "desc_len         0.062387 -0.073194  \n",
      "Hq               1.000000 -0.067351  \n",
      "hourly          -0.067351  1.000000  \n"
     ]
    },
    {
     "data": {
      "text/plain": [
       "<AxesSubplot:>"
      ]
     },
     "execution_count": 328,
     "metadata": {},
     "output_type": "execute_result"
    },
    {
     "data": {
      "image/png": "[encoded data removed]",
      "text/plain": [
       "<Figure size 432x288 with 2 Axes>"
      ]
     },
     "metadata": {
      "needs_background": "light"
     },
     "output_type": "display_data"
    }
   ],
   "source": [
    "print(df.corr())\n",
    "cmap = sns.diverging_palette(200, 0, as_cmap = True)\n",
    "sns.heatmap(df.corr(), cmap = cmap)"
   ]
  },
  {
   "cell_type": "markdown",
   "metadata": {},
   "source": [
    "Let's do analysis for categorical variabales"
   ]
  },
  {
   "cell_type": "code",
   "execution_count": 329,
   "metadata": {},
   "outputs": [
    {
     "name": "stderr",
     "output_type": "stream",
     "text": [
      "/var/folders/ph/yfqxnlss1ds28x8n8wzmqfg00000gn/T/ipykernel_2622/4116102487.py:8: UserWarning: Matplotlib is currently using module://matplotlib_inline.backend_inline, which is a non-GUI backend, so cannot show the figure.\n",
      "  fig.show()\n"
     ]
    },
    {
     "data": {
      "image/png": "[encoded data removed]",
      "text/plain": [
       "<Figure size 1440x1080 with 6 Axes>"
      ]
     },
     "metadata": {
      "needs_background": "light"
     },
     "output_type": "display_data"
    }
   ],
   "source": [
    "categorical_features = [\"Job_Category\", \"seniority\", \"state\", \"Type of ownership\",\"Sector\", \"Rev_million\"]\n",
    "fig, ax = plt.subplots(2, 3, figsize = (20,15))\n",
    "#fig.tight_layout()\n",
    "axe = ax.ravel()\n",
    "\n",
    "for i, categorical_feature in enumerate(df[categorical_features]):\n",
    "    df[categorical_feature].value_counts().head(10).plot(kind = \"bar\", ax=axe[i]).set_title(categorical_feature)\n",
    "fig.show()"
   ]
  },
  {
   "cell_type": "code",
   "execution_count": 330,
   "metadata": {},
   "outputs": [],
   "source": [
    "# Alternatively we can plot one columns after another using the below method\n",
    "# for i in df[categorical_features].columns:\n",
    "#     cat_num = df[categorical_features][i].value_counts()\n",
    "#     chart = sns.barplot(x = cat_num.index, y = cat_num)\n",
    "#     chart.set_xticklabels(chart.get_xticklabels(), rotation = 90)\n",
    "#     plt.show()\n",
    "\n"
   ]
  },
  {
   "cell_type": "markdown",
   "metadata": {},
   "source": [
    "Now let's see the relationships btw variables and avg_salary"
   ]
  },
  {
   "cell_type": "markdown",
   "metadata": {},
   "source": [
    "## Model Building"
   ]
  },
  {
   "cell_type": "code",
   "execution_count": 331,
   "metadata": {},
   "outputs": [],
   "source": [
    "import sklearn"
   ]
  },
  {
   "cell_type": "code",
   "execution_count": null,
   "metadata": {},
   "outputs": [],
   "source": []
  },
  {
   "cell_type": "code",
   "execution_count": 332,
   "metadata": {},
   "outputs": [],
   "source": [
    "# choose relevant columns\n",
    "df.columns\n",
    "df_models  = df[['avg_salary','Job_Category', 'seniority', 'Rating',\n",
    "    'state',  'Sector', 'Type of ownership',\n",
    "       'Rev_million', 'num_competitors',  'age_of_company',\n",
    "       'python', 'excel', 'sql', 'gcp', 'aws','desc_len','Hq']]\n",
    "\n",
    "df_models  = df[['avg_salary', 'Rating', 'Size', 'Type of ownership', 'Industry' , 'Sector', \n",
    "'Revenue', 'state', 'Hq','age_of_company','Job_Category', 'seniority',   'num_competitors',  \n",
    "       'python', 'excel', 'sql', 'gcp', 'aws','desc_len',]]\n"
   ]
  },
  {
   "cell_type": "code",
   "execution_count": 333,
   "metadata": {},
   "outputs": [
    {
     "data": {
      "text/plain": [
       "(742, 174)"
      ]
     },
     "execution_count": 333,
     "metadata": {},
     "output_type": "execute_result"
    }
   ],
   "source": [
    "# get dummy data\n",
    "df_dum = pd.get_dummies(df_models)\n",
    "df_dum.shape"
   ]
  },
  {
   "cell_type": "code",
   "execution_count": 334,
   "metadata": {},
   "outputs": [],
   "source": [
    "# train test split\n",
    "from sklearn.model_selection import train_test_split\n",
    "X = df_dum.drop(\"avg_salary\", axis = 1)\n",
    "y = df_dum[\"avg_salary\"].values # make sure to return array instead of series\n",
    "X_train, X_test, y_train, y_test = train_test_split(X, y, test_size= 0.2, random_state= 42)\n"
   ]
  },
  {
   "cell_type": "code",
   "execution_count": 335,
   "metadata": {},
   "outputs": [],
   "source": [
    "# multiple linear regression\n",
    "import statsmodels.api as sm \n",
    "X_sm = sm.add_constant(X)\n",
    "model = sm.OLS(y,X_sm)\n",
    "# model.fit().summary()\n"
   ]
  },
  {
   "cell_type": "code",
   "execution_count": 336,
   "metadata": {},
   "outputs": [
    {
     "data": {
      "text/plain": [
       "array([-21.9386946 , -21.53559271, -25.29855778])"
      ]
     },
     "execution_count": 336,
     "metadata": {},
     "output_type": "execute_result"
    }
   ],
   "source": [
    "# LinearRegression\n",
    "from sklearn.linear_model import LinearRegression\n",
    "from sklearn.model_selection import cross_val_score\n",
    "\n",
    "lm = LinearRegression()\n",
    "lm.fit(X_train, y_train)\n",
    "\n",
    "\n",
    "cross_val_score(lm, X_train, y_train, scoring = 'neg_mean_absolute_error', cv =3)"
   ]
  },
  {
   "cell_type": "code",
   "execution_count": 337,
   "metadata": {},
   "outputs": [
    {
     "data": {
      "text/plain": [
       "-22.49679808695675"
      ]
     },
     "execution_count": 337,
     "metadata": {},
     "output_type": "execute_result"
    }
   ],
   "source": [
    "# lasso regression\n",
    "from sklearn import linear_model\n",
    "lm_l = linear_model.Lasso()\n",
    "np.mean(cross_val_score(lm_l,X_train,y_train, scoring = 'neg_mean_absolute_error', cv =5))\n"
   ]
  },
  {
   "cell_type": "code",
   "execution_count": 346,
   "metadata": {},
   "outputs": [
    {
     "data": {
      "text/plain": [
       "-21.14380419823067"
      ]
     },
     "execution_count": 346,
     "metadata": {},
     "output_type": "execute_result"
    },
    {
     "data": {
      "image/png": "[encoded data removed]",
      "text/plain": [
       "<Figure size 432x288 with 1 Axes>"
      ]
     },
     "metadata": {
      "needs_background": "light"
     },
     "output_type": "display_data"
    }
   ],
   "source": [
    "alpha = []\n",
    "error = []\n",
    "for i in range(1,100):\n",
    "    lm_l = linear_model.Lasso(i/100)\n",
    "    alpha.append(i/100)\n",
    "    error.append(np.mean(cross_val_score(lm_l,X_train,y_train, scoring = 'neg_mean_absolute_error', cv =3)))\n",
    "    \n",
    "plt.plot(alpha,error)\n"
   ]
  },
  {
   "cell_type": "code",
   "execution_count": 349,
   "metadata": {},
   "outputs": [],
   "source": [
    "optimal_alpha = alpha[error.index(max(error))]"
   ]
  },
  {
   "cell_type": "code",
   "execution_count": 350,
   "metadata": {},
   "outputs": [
    {
     "data": {
      "text/plain": [
       "array([-16.70913333, -16.51512727, -15.6628132 ])"
      ]
     },
     "execution_count": 350,
     "metadata": {},
     "output_type": "execute_result"
    }
   ],
   "source": [
    "# random forest (gradient boosted tree, support vector regression can be also used)\n",
    "from sklearn.ensemble import RandomForestRegressor\n",
    "rf = RandomForestRegressor()\n",
    "\n",
    "cross_val_score(rf,X_train,y_train,scoring = 'neg_mean_absolute_error', cv =3)"
   ]
  },
  {
   "cell_type": "code",
   "execution_count": 358,
   "metadata": {},
   "outputs": [
    {
     "data": {
      "text/plain": [
       "GridSearchCV(cv=3, estimator=RandomForestRegressor(),\n",
       "             param_grid={'max_features': ('auto', 'sqrt', 'log2'),\n",
       "                         'n_estimators': range(10, 300, 10)},\n",
       "             scoring='neg_mean_absolute_error')"
      ]
     },
     "execution_count": 358,
     "metadata": {},
     "output_type": "execute_result"
    }
   ],
   "source": [
    "# tune model for gridsearchCV\n",
    "from sklearn.model_selection import GridSearchCV\n",
    "parameters = {'n_estimators':range(10,300,10),'max_features' : ('auto','sqrt','log2')}\n",
    "\n",
    "gs = GridSearchCV(rf,parameters,scoring = 'neg_mean_absolute_error', cv = 3 )\n",
    "gs.fit(X_train,y_train)\n",
    "# GridSearchCV(estimator=SVC(),\n",
    "#              param_grid={'C': [1, 10], 'kernel': ('linear', 'rbf')})"
   ]
  },
  {
   "cell_type": "code",
   "execution_count": 360,
   "metadata": {},
   "outputs": [
    {
     "data": {
      "text/plain": [
       "RandomForestRegressor(n_estimators=50)"
      ]
     },
     "execution_count": 360,
     "metadata": {},
     "output_type": "execute_result"
    }
   ],
   "source": [
    "# test emsambles\n",
    "gs.best_score_\n",
    "gs.best_estimator_"
   ]
  },
  {
   "cell_type": "code",
   "execution_count": 372,
   "metadata": {},
   "outputs": [],
   "source": [
    "# test ensembles\n",
    "lm = LinearRegression()\n",
    "lm.fit(X_train,y_train)\n",
    "tpred_lm = lm.predict(X_test)\n",
    "lm_l = linear_model.Lasso(alpha = 0.16)\n",
    "lm_l.fit(X_train,y_train)\n",
    "tpred_lm_l = lm_l.predict(X_test)\n",
    "tpred_rf = gs.best_estimator_.predict(X_test)\n"
   ]
  },
  {
   "cell_type": "code",
   "execution_count": 376,
   "metadata": {},
   "outputs": [
    {
     "name": "stdout",
     "output_type": "stream",
     "text": [
      "22.117904333516258\n",
      "22.962056917727487\n",
      "12.505758389261743\n",
      "22.166233728517586\n"
     ]
    }
   ],
   "source": [
    "from sklearn.metrics import mean_absolute_error\n",
    "print(mean_absolute_error(y_test,tpred_lm))\n",
    "print(mean_absolute_error(y_test,tpred_lm_l))\n",
    "print(mean_absolute_error(y_test,tpred_rf))"
   ]
  },
  {
   "cell_type": "code",
   "execution_count": null,
   "metadata": {},
   "outputs": [],
   "source": []
  }
 ],
 "metadata": {
  "interpreter": {
   "hash": "949777d72b0d2535278d3dc13498b2535136f6dfe0678499012e853ee9abcab1"
  },
  "kernelspec": {
   "display_name": "Python 3.9.7 64-bit",
   "language": "python",
   "name": "python3"
  },
  "language_info": {
   "codemirror_mode": {
    "name": "ipython",
    "version": 3
   },
   "file_extension": ".py",
   "mimetype": "text/x-python",
   "name": "python",
   "nbconvert_exporter": "python",
   "pygments_lexer": "ipython3",
   "version": "3.9.7"
  },
  "orig_nbformat": 4
 },
 "nbformat": 4,
 "nbformat_minor": 2
}
